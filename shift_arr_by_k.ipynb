{
 "cells": [
  {
   "cell_type": "code",
   "execution_count": 28,
   "id": "27ae515c",
   "metadata": {},
   "outputs": [
    {
     "name": "stdout",
     "output_type": "stream",
     "text": [
      "[1, 2, 3, 4, 5, 6, 7, 8]\n",
      "[3, 4, 5, 6, 7, 8, 1, 2]\n"
     ]
    }
   ],
   "source": [
    "def shiftElements(arr, k):\n",
    "    \n",
    "    count = 0\n",
    "    arrLen = len(arr)\n",
    "    k = k%arrLen\n",
    "    currIdx = 0\n",
    "    nextIdx = (currIdx+k)%arrLen\n",
    "    currElement = arr[currIdx]\n",
    "    arrStart = 0\n",
    "    while count < arrLen:\n",
    "        if count !=0 and currIdx==arrStart:\n",
    "            ### When both k and arrLen are even, we need to avoid picking already picked elements ###\n",
    "            currIdx = (arrStart + 1)%arrLen\n",
    "            nextIdx = (currIdx+k)%arrLen\n",
    "            currElement = arr[currIdx]\n",
    "            arrStart += 1\n",
    "        \n",
    "        tmp = arr[nextIdx]\n",
    "        arr[nextIdx] = currElement\n",
    "        currElement = tmp\n",
    "        currIdx = nextIdx\n",
    "        nextIdx = (nextIdx+k)%arrLen\n",
    "        count +=1\n",
    "        \n",
    "        \n",
    "arr = [1,2,3,4,5,6,7,8]\n",
    "print(arr)\n",
    "shiftElements(arr, 6)\n",
    "print(arr)"
   ]
  },
  {
   "cell_type": "code",
   "execution_count": null,
   "id": "ce501fcf",
   "metadata": {},
   "outputs": [],
   "source": []
  }
 ],
 "metadata": {
  "kernelspec": {
   "display_name": "Python 3 (ipykernel)",
   "language": "python",
   "name": "python3"
  },
  "language_info": {
   "codemirror_mode": {
    "name": "ipython",
    "version": 3
   },
   "file_extension": ".py",
   "mimetype": "text/x-python",
   "name": "python",
   "nbconvert_exporter": "python",
   "pygments_lexer": "ipython3",
   "version": "3.9.7"
  }
 },
 "nbformat": 4,
 "nbformat_minor": 5
}
