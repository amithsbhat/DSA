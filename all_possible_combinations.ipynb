{
 "cells": [
  {
   "cell_type": "code",
   "execution_count": 40,
   "id": "d316bf3a",
   "metadata": {},
   "outputs": [
    {
     "data": {
      "text/plain": [
       "{'a',\n",
       " 'ab',\n",
       " 'abc',\n",
       " 'abcd',\n",
       " 'abd',\n",
       " 'ac',\n",
       " 'acd',\n",
       " 'ad',\n",
       " 'b',\n",
       " 'bc',\n",
       " 'bcd',\n",
       " 'bd',\n",
       " 'c',\n",
       " 'cd',\n",
       " 'd'}"
      ]
     },
     "execution_count": 40,
     "metadata": {},
     "output_type": "execute_result"
    }
   ],
   "source": [
    "def getCombination(arr, start, end, res, tmp=''):\n",
    "    \n",
    "    if tmp != '':\n",
    "        res.add(tmp)\n",
    "        \n",
    "    if start > end:\n",
    "        \n",
    "        if tmp == arr:\n",
    "            return res\n",
    "        return None\n",
    "    \n",
    "    nextIdx = start+1\n",
    "    resultWithoutCurr = getCombination(arr, nextIdx, end, res, tmp=tmp)\n",
    "    resultWithCurr = getCombination(arr, nextIdx, end, res, tmp=tmp+arr[start])\n",
    "    finalResult = resultWithoutCurr or resultWithCurr\n",
    "    if finalResult:\n",
    "        return finalResult\n",
    "    \n",
    "\n",
    "arr = 'abcd'\n",
    "getCombination(arr, 0, len(arr)-1, set([]))"
   ]
  },
  {
   "cell_type": "code",
   "execution_count": null,
   "id": "f158c73c",
   "metadata": {},
   "outputs": [],
   "source": []
  }
 ],
 "metadata": {
  "kernelspec": {
   "display_name": "Python 3 (ipykernel)",
   "language": "python",
   "name": "python3"
  },
  "language_info": {
   "codemirror_mode": {
    "name": "ipython",
    "version": 3
   },
   "file_extension": ".py",
   "mimetype": "text/x-python",
   "name": "python",
   "nbconvert_exporter": "python",
   "pygments_lexer": "ipython3",
   "version": "3.9.7"
  }
 },
 "nbformat": 4,
 "nbformat_minor": 5
}
